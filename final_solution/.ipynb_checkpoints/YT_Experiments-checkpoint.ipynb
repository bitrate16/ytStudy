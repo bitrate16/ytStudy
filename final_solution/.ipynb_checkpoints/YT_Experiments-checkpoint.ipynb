{
 "cells": [
  {
   "cell_type": "code",
   "execution_count": null,
   "metadata": {},
   "outputs": [],
   "source": [
    "from Experiments import Experiments #Для проведения экспериментов\n",
    "from Plots import Exp_plot #Для построения графиков\n",
    "from CreatDB import CreatDataBase\n",
    "import proxy\n",
    "\n",
    "import pandas as pd\n",
    "import numpy as np"
   ]
  },
  {
   "cell_type": "raw",
   "metadata": {},
   "source": [
    "Если запускать первый раз, необходимо открыть терминал и прописать:\n",
    "1) sudo dscl . create /Groups/throttle RealName \"throttle\"\n",
    "2) sudo visudo\n",
    "3) В открывшемся файле прописать <Имя пользователя> ALL=(ALL:throttle) ALL после строчки как на картинке внизу.\n",
    "Для закрытия файла с сохранением нажать ':' и написать wq\n",
    "4) Установить библиотеки: \n",
    "    - plotly (pip install plotly)\n",
    "    - mitmporoxy (https://mitmproxy.org)\n",
    "    - pandas (pip install pandas)\n",
    "    - numpy (pip install numpy)\n",
    "    - matplotlib (pip install matplotlib)"
   ]
  },
  {
   "cell_type": "code",
   "execution_count": null,
   "metadata": {},
   "outputs": [],
   "source": [
    "import matplotlib.image as img\n",
    "import matplotlib.pyplot as plt\n",
    "image = img.imread('visudo.png')\n",
    "figure = plt.figure(figsize = (10,10))\n",
    "ax = figure.add_subplot(111)\n",
    "ax.imshow(image)"
   ]
  },
  {
   "cell_type": "markdown",
   "metadata": {},
   "source": [
    "Таблицы с данными о видео и сами видео (число в тюпле - это продолжительность эксперимента над одним видео):"
   ]
  },
  {
   "cell_type": "code",
   "execution_count": null,
   "metadata": {},
   "outputs": [],
   "source": [
    "video_hdr = pd.read_csv('table_hdr.csv', sep ='\\t')\n",
    "video_data = pd.read_csv('table_videos.csv', sep = '\\t')\n",
    "# links = [(\"https://www.youtube.com/watch?v=wnJ6LuUFpMo\", 240), \n",
    "#          (\"https://www.youtube.com/watch?v=PLevvcC5Xbk\", 150)]\n",
    "links = [(\"https://www.youtube.com/watch?v=PLevvcC5Xbk\", 150)]"
   ]
  },
  {
   "cell_type": "code",
   "execution_count": null,
   "metadata": {},
   "outputs": [],
   "source": [
    "dur = [186,121] #Продолжительность видео\n",
    "tot_size = [3032732, 3450884] #Размер видео\n",
    "tbr = [142.463, 245.415]\n",
    "dur_p = [np.mean(video_data.loc[video_data['Id'] == 'PLevvcC5Xbk']['Duration']),\n",
    "         np.mean(video_data.loc[video_data['Id'] == 'wnJ6LuUFpMo']['Duration'])] #Средняя продолжительность сегмента\n",
    "const_exp = [1430, 1040] #Скорости для константного эксперимента\n",
    "# var_exp = [(1040, 1430, 1800, 3000), (1430, 1040, 900, 500)] #Для переменного эксперимента\n",
    "var_exp = [(1430,500),(500,1430),(1030,500,5000)]\n",
    "file_for_database = 'db4.pickle' #Файл для сохранения базы данных"
   ]
  },
  {
   "cell_type": "markdown",
   "metadata": {},
   "source": [
    "В файле pass.txt необходимо написать пароль от системы.\n",
    "Если файла нет его необходимо создать с таким именем."
   ]
  },
  {
   "cell_type": "code",
   "execution_count": null,
   "metadata": {},
   "outputs": [],
   "source": [
    "Experiments.StopLimitTraffic() #Снятие раннее наложенного ограничения на траффик"
   ]
  },
  {
   "cell_type": "markdown",
   "metadata": {},
   "source": [
    "Включаем прокси в системе 127.0.0.1 8890. Проверяем настройки -> сеть -> прокси -> Должны стоять галочки\n",
    "Веб-прокси и защищённый веб-прокси"
   ]
  },
  {
   "cell_type": "code",
   "execution_count": null,
   "metadata": {},
   "outputs": [],
   "source": [
    "proxy.SetProxy()"
   ]
  },
  {
   "cell_type": "markdown",
   "metadata": {},
   "source": [
    "Выключаем прокси в системе. Должны исчезнуть галочки с веб-прокси и защищённый веб-прокси"
   ]
  },
  {
   "cell_type": "code",
   "execution_count": null,
   "metadata": {},
   "outputs": [],
   "source": [
    "proxy.DisableProxy()"
   ]
  },
  {
   "cell_type": "code",
   "execution_count": null,
   "metadata": {},
   "outputs": [],
   "source": [
    "db = CreatDataBase() #Если создаётся новая база данных\n",
    "# db = Experiments(dbfile = 'database.pickle').DataOutput() #Если необходимо дополнять существующую базу"
   ]
  },
  {
   "cell_type": "markdown",
   "metadata": {},
   "source": [
    "Константный эксперимент:"
   ]
  },
  {
   "cell_type": "code",
   "execution_count": null,
   "metadata": {},
   "outputs": [],
   "source": [
    "Experiments(database = db, links = links, const_exp = const_exp, audio = False, video_hdr = video_hdr).Const_exp() #Извлекать аудио сегменты\n",
    "Experiments.StopLimitTraffic()"
   ]
  },
  {
   "cell_type": "code",
   "execution_count": null,
   "metadata": {},
   "outputs": [],
   "source": [
    "Experiments(database = db, dbfile = 'database1.pickle').Saving() #Сохранение базы данных"
   ]
  },
  {
   "cell_type": "code",
   "execution_count": null,
   "metadata": {},
   "outputs": [],
   "source": [
    "Experiments(dbfile = 'database1.pickle').DataOutput() #Выписать сохранённую базу данных "
   ]
  },
  {
   "cell_type": "markdown",
   "metadata": {},
   "source": [
    "Построение графиков по константному эксперименту:"
   ]
  },
  {
   "cell_type": "code",
   "execution_count": null,
   "metadata": {},
   "outputs": [],
   "source": [
    "Exp_plot(dur = dur, tot_size=tot_size, tbr=tbr, dur_p=dur_p, dbase = db).Const_plot('database1.pickle')\n",
    "#Нужно либо передать словарь, либо файл с базой данных"
   ]
  },
  {
   "cell_type": "markdown",
   "metadata": {},
   "source": [
    "Переменный эксперимент"
   ]
  },
  {
   "cell_type": "code",
   "execution_count": null,
   "metadata": {},
   "outputs": [],
   "source": [
    "Experiments(database = db, links = links, var_exp = var_exp, time_change = None, audio = False, video_hdr = video_hdr).Var_exp()\n",
    "#Не извлекать аудио сегменты\n",
    "Experiments.StopLimitTraffic()"
   ]
  },
  {
   "cell_type": "code",
   "execution_count": null,
   "metadata": {},
   "outputs": [],
   "source": [
    "Experiments(database = db, dbfile = 'database2.pickle').Saving() #Сохранение базы данных"
   ]
  },
  {
   "cell_type": "code",
   "execution_count": null,
   "metadata": {},
   "outputs": [],
   "source": [
    "Experiments(dbfile = 'database2.pickle').DataOutput()['var'] #Выписать сохранённую базу данных "
   ]
  },
  {
   "cell_type": "code",
   "execution_count": null,
   "metadata": {},
   "outputs": [],
   "source": [
    "Exp_plot(dur = dur, tot_size=tot_size, tbr=tbr, dur_p=dur_p, dbase = None).Var_plot('database2.pickle') #Графики \n",
    "#для переменного эксперимента"
   ]
  },
  {
   "cell_type": "code",
   "execution_count": null,
   "metadata": {},
   "outputs": [],
   "source": []
  }
 ],
 "metadata": {
  "kernelspec": {
   "display_name": "Python 3",
   "language": "python",
   "name": "python3"
  },
  "language_info": {
   "codemirror_mode": {
    "name": "ipython",
    "version": 3
   },
   "file_extension": ".py",
   "mimetype": "text/x-python",
   "name": "python",
   "nbconvert_exporter": "python",
   "pygments_lexer": "ipython3",
   "version": "3.6.5"
  }
 },
 "nbformat": 4,
 "nbformat_minor": 2
}
